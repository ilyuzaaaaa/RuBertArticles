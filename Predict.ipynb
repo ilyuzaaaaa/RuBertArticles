{
 "cells": [
  {
   "cell_type": "code",
   "execution_count": 4,
   "metadata": {},
   "outputs": [
    {
     "name": "stdout",
     "output_type": "stream",
     "text": [
      "Index(['sport', 'society', 'auto', 'business', 'economic'], dtype='object')\n",
      "   topics                                              title\n",
      "0       0  Суд американского города Торранс приступит к р...\n",
      "1       0  Состояние здоровья знаменитого канадского хокк...\n",
      "2       0  Финский \"Йокерит\" потеряет преимущество своей ...\n",
      "3       0  \"Сакраменто\" проиграл \"Мемфису\" в матче чемпио...\n",
      "4       0  ФК \"Валенсия\": сделаем все, чтобы найти фаната...\n"
     ]
    },
    {
     "data": {
      "text/plain": [
       "<All keys matched successfully>"
      ]
     },
     "execution_count": 4,
     "metadata": {},
     "output_type": "execute_result"
    }
   ],
   "source": [
    "!cp \"/Users/iluzaangirova/Desktop/Bert/train_predict/modeling.py\" .\n",
    "!cp \"/Users/iluzaangirova/Desktop/Bert/train_predict/optimization.py\" .\n",
    "!cp \"/Users/iluzaangirova/Desktop/Bert/tokenization.py\" .\n",
    "import tokenization \n",
    "import torch\n",
    "import sys \n",
    "import time\n",
    "import numpy as np\n",
    "import pandas as pd\n",
    "from IPython.display import clear_output\n",
    "import torch.nn.functional as F\n",
    "from torch.nn.utils.rnn import pad_sequence\n",
    "from modeling import BertConfig, BertForSequenceClassification\n",
    "from optimization import BERTAdam\n",
    "from sklearn.model_selection import train_test_split\n",
    "from sklearn.model_selection import KFold \n",
    "from sklearn.metrics import accuracy_score, matthews_corrcoef\n",
    "\n",
    "import matplotlib.pyplot as plt\n",
    "import tkinter as tk\n",
    "\n",
    "\n",
    "df = pd.read_csv('/Users/iluzaangirova/Desktop/Bert/dataset_5.csv', encoding='utf8')\n",
    "df = df[['topics', 'title']]\n",
    "\n",
    "maps = pd.factorize(df.topics)[1]\n",
    "print(maps)\n",
    "df['topics'] = pd.factorize(df.topics)[0]\n",
    "print(df.head())\n",
    "df['title'] = df['title'].astype('str')\n",
    "\n",
    "\n",
    "device = 'cpu'\n",
    "bert_config = BertConfig.from_json_file('/Users/iluzaangirova/Desktop/Bert/train_predict/bert_config.json')\n",
    "model = BertForSequenceClassification(bert_config, 5)\n",
    "model.to(device)\n",
    "model = torch.nn.DataParallel(model)\n",
    "model.load_state_dict(torch.load('/Users/iluzaangirova/Desktop/Bert/weights5000.pth'\\\n",
    "                                      , map_location='cpu'))"
   ]
  },
  {
   "cell_type": "code",
   "execution_count": 5,
   "metadata": {},
   "outputs": [],
   "source": [
    "tokenizer = tokenization.FullTokenizer(vocab_file='/Users/iluzaangirova/Desktop/Bert/vocab.txt', do_lower_case=False)"
   ]
  },
  {
   "cell_type": "code",
   "execution_count": 6,
   "metadata": {},
   "outputs": [],
   "source": [
    "def predict(sentence, tokenizer, max_len):\n",
    "#     print(sentence)\n",
    "    tokens_a = tokenizer.tokenize(sentence)\n",
    "    if len(tokens_a) > max_len - 2:\n",
    "        tokens_a = tokens_a[0:(max_len - 2)]\n",
    "\n",
    "    tokens = []\n",
    "    tokens.append(\"[CLS]\")\n",
    "    for token in tokens_a:\n",
    "        tokens.append(token)\n",
    "    tokens.append(\"[SEP]\")\n",
    "    input_ids = tokenizer.convert_tokens_to_ids(tokens)\n",
    "    input_mask = [1] * len(input_ids)\n",
    "    while len(input_ids) < max_len:\n",
    "        input_ids.append(0)\n",
    "        input_mask.append(0)\n",
    "    input_ids = torch.LongTensor(input_ids).unsqueeze(0)\n",
    "    input_mask = torch.LongTensor(input_mask).unsqueeze(0)\n",
    "    a = time.time()\n",
    "\n",
    "    logits = model(input_ids.cpu(), None, input_mask.cpu())\n",
    "    logits = logits.squeeze(0)\n",
    "    \n",
    "    b = time.time()\n",
    "    logits = F.softmax(logits, dim=-1)\n",
    "    clas = logits.argmax().item()\n",
    "    return clas"
   ]
  },
  {
   "cell_type": "code",
   "execution_count": 7,
   "metadata": {},
   "outputs": [],
   "source": [
    "window = tk.Tk()\n",
    "window.title('Classifier')\n",
    "label = tk.Label(text=\"Введите заголовок статьи\")\n",
    "entry = tk.Entry()\n",
    "label.pack()\n",
    "entry.pack()\n",
    "title1 = entry.get()\n",
    "def button():\n",
    "    label = tk.Label(window, text=maps[predict(entry.get(), tokenizer, 512)])\n",
    "    label.pack()\n",
    "btn1 = tk.Button(window, text = 'классифицировать', command = button)\n",
    "btn1.pack()\n",
    "window.mainloop()"
   ]
  },
  {
   "cell_type": "code",
   "execution_count": null,
   "metadata": {},
   "outputs": [],
   "source": []
  }
 ],
 "metadata": {
  "kernelspec": {
   "display_name": "Python 3",
   "language": "python",
   "name": "python3"
  },
  "language_info": {
   "codemirror_mode": {
    "name": "ipython",
    "version": 3
   },
   "file_extension": ".py",
   "mimetype": "text/x-python",
   "name": "python",
   "nbconvert_exporter": "python",
   "pygments_lexer": "ipython3",
   "version": "3.8.3"
  }
 },
 "nbformat": 4,
 "nbformat_minor": 4
}
